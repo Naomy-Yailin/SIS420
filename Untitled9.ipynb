{
  "nbformat": 4,
  "nbformat_minor": 0,
  "metadata": {
    "colab": {
      "provenance": [],
      "authorship_tag": "ABX9TyPFRrLLskdgh4elHTGfy6iK",
      "include_colab_link": true
    },
    "kernelspec": {
      "name": "python3",
      "display_name": "Python 3"
    },
    "language_info": {
      "name": "python"
    }
  },
  "cells": [
    {
      "cell_type": "markdown",
      "metadata": {
        "id": "view-in-github",
        "colab_type": "text"
      },
      "source": [
        "<a href=\"https://colab.research.google.com/github/Naomy-Yailin/SIS420/blob/main/Untitled9.ipynb\" target=\"_parent\"><img src=\"https://colab.research.google.com/assets/colab-badge.svg\" alt=\"Open In Colab\"/></a>"
      ]
    },
    {
      "cell_type": "markdown",
      "source": [
        "Importación de librerias"
      ],
      "metadata": {
        "id": "gaWrdgFmW3c6"
      }
    },
    {
      "cell_type": "code",
      "execution_count": 37,
      "metadata": {
        "id": "ojdBSGYC4rNl"
      },
      "outputs": [],
      "source": [
        "import torch\n",
        "import torch.nn as nn\n",
        "import torch.nn.functional as F"
      ]
    },
    {
      "cell_type": "markdown",
      "source": [
        "cargar a Drive"
      ],
      "metadata": {
        "id": "07qrclUGW8hJ"
      }
    },
    {
      "cell_type": "code",
      "source": [
        "from google.colab import drive\n",
        "drive.mount('/content/drive')"
      ],
      "metadata": {
        "colab": {
          "base_uri": "https://localhost:8080/"
        },
        "id": "P_Xu19U75sji",
        "outputId": "52f7ead6-f7e4-4d84-ceb9-e56ad838b3a8"
      },
      "execution_count": 38,
      "outputs": [
        {
          "output_type": "stream",
          "name": "stdout",
          "text": [
            "Drive already mounted at /content/drive; to attempt to forcibly remount, call drive.mount(\"/content/drive\", force_remount=True).\n"
          ]
        }
      ]
    },
    {
      "cell_type": "markdown",
      "source": [
        "cargar el dataset"
      ],
      "metadata": {
        "id": "nTpdUm-VW-fM"
      }
    },
    {
      "cell_type": "code",
      "source": [
        "\n",
        "file_path = '/content/DailyDelhiClimateTrain.csv'\n",
        "df_clima = pd.read_csv(file_path)\n",
        "\n"
      ],
      "metadata": {
        "id": "K48C1IIU53lz"
      },
      "execution_count": 39,
      "outputs": []
    },
    {
      "cell_type": "code",
      "source": [
        "class Model(nn.Module):\n",
        "    def __init__(self, in_entradas=4, h1=30, h2=16, out_salidas=1):  #  4 entradas y 1 salida\n",
        "        super(Model, self).__init__()\n",
        "        self.fc1 = nn.Linear(in_entradas, h1)\n",
        "        self.fc2 = nn.Linear(h1, h2)\n",
        "        self.out = nn.Linear(h2, out_salidas)  # Solo 1 salida\n",
        "        self.device = torch.device('cuda' if torch.cuda.is_available() else 'cpu')\n",
        "        self.to(self.device)\n",
        "\n",
        "    def adelante(self, x):\n",
        "        x = x.to(self.device)\n",
        "        x = F.relu(self.fc1(x))\n",
        "        x = F.relu(self.fc2(x))\n",
        "        x = self.out(x)\n",
        "        return x"
      ],
      "metadata": {
        "id": "5I18lMt_6XV-"
      },
      "execution_count": 41,
      "outputs": []
    },
    {
      "cell_type": "code",
      "source": [
        "torch.manual_seed(5)\n",
        "\n",
        "model = Model()\n"
      ],
      "metadata": {
        "id": "61Rh2egY7Iuj"
      },
      "execution_count": 42,
      "outputs": []
    },
    {
      "cell_type": "code",
      "source": [
        "import pandas as pd\n",
        "import matplotlib.pyplot as plt\n",
        "%matplotlib inline"
      ],
      "metadata": {
        "id": "vGHONg6l77y-"
      },
      "execution_count": 43,
      "outputs": []
    },
    {
      "cell_type": "code",
      "source": [
        "my_data = pd.read_csv('/content/DailyDelhiClimateTrain.csv', sep=',')\n"
      ],
      "metadata": {
        "id": "KL1tFdz1VFck"
      },
      "execution_count": 46,
      "outputs": []
    },
    {
      "cell_type": "code",
      "source": [
        "import numpy as np\n",
        "\n",
        "condiciones = [\n",
        "    df['meantemp'] < 10,  # Temperatura menor a 10°C\n",
        "    (df['meantemp'] >= 10) & (df['meantemp'] < 20),  # Temperatura entre 10°C y 20°C\n",
        "    df['meantemp'] >= 20  # Temperatura mayor o igual a 20°C\n",
        "]\n",
        "\n",
        "valores = [0, 1, 2]  # 0 = baja temperatura, 1 = temperatura moderada, 2 = alta temperatura\n",
        "\n",
        "df['predicted_temperature_class'] = np.select(condiciones, valores)"
      ],
      "metadata": {
        "colab": {
          "base_uri": "https://localhost:8080/",
          "height": 207
        },
        "id": "vo59riOWVX1n",
        "outputId": "6f3fb2c9-ed90-4ab7-d26b-9c1438a1028a"
      },
      "execution_count": 48,
      "outputs": [
        {
          "output_type": "error",
          "ename": "NameError",
          "evalue": "name 'df' is not defined",
          "traceback": [
            "\u001b[0;31m---------------------------------------------------------------------------\u001b[0m",
            "\u001b[0;31mNameError\u001b[0m                                 Traceback (most recent call last)",
            "\u001b[0;32m/tmp/ipython-input-3722215515.py\u001b[0m in \u001b[0;36m<cell line: 0>\u001b[0;34m()\u001b[0m\n\u001b[1;32m      2\u001b[0m \u001b[0;34m\u001b[0m\u001b[0m\n\u001b[1;32m      3\u001b[0m condiciones = [\n\u001b[0;32m----> 4\u001b[0;31m     \u001b[0mdf\u001b[0m\u001b[0;34m[\u001b[0m\u001b[0;34m'meantemp'\u001b[0m\u001b[0;34m]\u001b[0m \u001b[0;34m<\u001b[0m \u001b[0;36m10\u001b[0m\u001b[0;34m,\u001b[0m  \u001b[0;31m# Temperatura menor a 10°C\u001b[0m\u001b[0;34m\u001b[0m\u001b[0;34m\u001b[0m\u001b[0m\n\u001b[0m\u001b[1;32m      5\u001b[0m     \u001b[0;34m(\u001b[0m\u001b[0mdf\u001b[0m\u001b[0;34m[\u001b[0m\u001b[0;34m'meantemp'\u001b[0m\u001b[0;34m]\u001b[0m \u001b[0;34m>=\u001b[0m \u001b[0;36m10\u001b[0m\u001b[0;34m)\u001b[0m \u001b[0;34m&\u001b[0m \u001b[0;34m(\u001b[0m\u001b[0mdf\u001b[0m\u001b[0;34m[\u001b[0m\u001b[0;34m'meantemp'\u001b[0m\u001b[0;34m]\u001b[0m \u001b[0;34m<\u001b[0m \u001b[0;36m20\u001b[0m\u001b[0;34m)\u001b[0m\u001b[0;34m,\u001b[0m  \u001b[0;31m# Temperatura entre 10°C y 20°C\u001b[0m\u001b[0;34m\u001b[0m\u001b[0;34m\u001b[0m\u001b[0m\n\u001b[1;32m      6\u001b[0m     \u001b[0mdf\u001b[0m\u001b[0;34m[\u001b[0m\u001b[0;34m'meantemp'\u001b[0m\u001b[0;34m]\u001b[0m \u001b[0;34m>=\u001b[0m \u001b[0;36m20\u001b[0m  \u001b[0;31m# Temperatura mayor o igual a 20°C\u001b[0m\u001b[0;34m\u001b[0m\u001b[0;34m\u001b[0m\u001b[0m\n",
            "\u001b[0;31mNameError\u001b[0m: name 'df' is not defined"
          ]
        }
      ]
    },
    {
      "cell_type": "code",
      "source": [
        "\n",
        "import matplotlib.pyplot as plt\n",
        "\n",
        "# Inicializar la lista para almacenar los valores de loss\n",
        "loss_values = []\n",
        "\n",
        "# Entrenamiento del modelo con registro de loss\n",
        "num_epochs = 100\n",
        "for epoch in range(num_epochs):\n",
        "    model.train()\n",
        "    optimizer.zero_grad()\n",
        "\n",
        "    # Realizar la predicción\n",
        "    output = model(train_sequences)\n",
        "    loss = criterion(output, train_labels)\n",
        "\n",
        "    # Registrar el valor de loss\n",
        "    loss_values.append(loss.item())  # Añadir el valor de loss a la lista\n",
        "\n",
        "    # Realizar la retropropagación\n",
        "    loss.backward()\n",
        "    optimizer.step()\n",
        "\n",
        "    # Imprimir cada 10 épocas\n",
        "    if epoch % 10 == 0:\n",
        "        print(f'Epoch {epoch}, Loss: {loss.item()}')\n",
        "\n",
        "# Graficar loss durante el entrenamiento\n",
        "plt.figure(figsize=(10, 6))\n",
        "plt.plot(range(num_epochs), loss_values, label='Loss', color='blue', linestyle='-', linewidth=2)\n",
        "plt.xlabel('Épocas', fontsize=14)\n",
        "plt.ylabel('Loss', fontsize=14)\n",
        "plt.title('Evolución del Loss Durante el Entrenamiento', fontsize=16)\n",
        "plt.legend()\n",
        "plt.grid(True)\n",
        "plt.tight_layout()\n",
        "plt.show()"
      ],
      "metadata": {
        "colab": {
          "base_uri": "https://localhost:8080/",
          "height": 777
        },
        "id": "FiaunnO587tu",
        "outputId": "0fd5a223-42c8-4c8c-e197-43ea26d937aa"
      },
      "execution_count": 26,
      "outputs": [
        {
          "output_type": "stream",
          "name": "stdout",
          "text": [
            "Epoch 0, Loss: 0.04213380813598633\n",
            "Epoch 10, Loss: 0.041786544024944305\n",
            "Epoch 20, Loss: 0.04143286868929863\n",
            "Epoch 30, Loss: 0.04106239229440689\n",
            "Epoch 40, Loss: 0.04067252203822136\n",
            "Epoch 50, Loss: 0.04026252403855324\n",
            "Epoch 60, Loss: 0.03983072191476822\n",
            "Epoch 70, Loss: 0.0393747054040432\n",
            "Epoch 80, Loss: 0.038891423493623734\n",
            "Epoch 90, Loss: 0.03837697207927704\n"
          ]
        },
        {
          "output_type": "display_data",
          "data": {
            "text/plain": [
              "<Figure size 1000x600 with 1 Axes>"
            ],
            "image/png": "[encoded data removed]"
          },
          "metadata": {}
        }
      ]
    },
    {
      "cell_type": "markdown",
      "source": [
        "Interpretación de la Gráfica:\n",
        "\t1.\tLoss (Pérdida):\n",
        "\t•\tEl loss mide cuán cerca están las predicciones del modelo de los valores reales. En este caso, como estás trabajando con un modelo de regresión para predecir la temperatura, el loss refleja qué tan preciso es el modelo al predecir los valores de temperatura.\n",
        "\t•\tEl valor del loss en cada época se calcula utilizando una función de pérdida (como el MSE, que es común en problemas de regresión). Un loss más bajo indica que las predicciones son más cercanas a los valores reales.\n",
        "\t2.\tComportamiento de la Gráfica:\n",
        "\t•\tLa gráfica muestra una disminución constante del loss a medida que avanzan las épocas. Esto indica que el modelo está mejorando en su capacidad para predecir los valores de temperatura, ajustando sus parámetros (pesos).\n",
        "\t•\tAl principio del entrenamiento, el loss es más alto porque el modelo comienza con parámetros aleatorios y, por lo tanto, las predicciones son incorrectas.\n",
        "\t•\tA medida que el entrenamiento avanza, el modelo ajusta sus parámetros y la pérdida disminuye, lo que indica que las predicciones se están acercando a los valores reales.\n",
        "\t3.\tCurvatura:\n",
        "\t•\tLa gráfica de loss muestra una disminución rápida en las primeras épocas, lo que es común cuando el modelo empieza a aprender rápidamente. Luego, la disminución se vuelve más gradual, indicando que el modelo está alcanzando un punto donde las mejoras son más pequeñas.\n",
        "\n",
        "Lo que Significa para Tu Modelo:\n",
        "\t•\tÉpocas Iniciales: El modelo aprende rápidamente en las primeras épocas, ya que hay una gran diferencia entre las predicciones y los valores reales.\n",
        "\t•\tÉpocas Posteriores: A medida que el modelo se ajusta más, el loss disminuye más lentamente, lo que indica que el modelo está alcanzando una “zona de estabilidad” donde los parámetros no cambian tanto.\n",
        "\t•\tEstabilización: Si el loss se estabiliza en un valor bajo, esto sugiere que el modelo ha aprendido adecuadamente. Sin embargo, si el loss sigue fluctuando mucho, podría ser una señal de que el modelo necesita ajustes en su"
      ],
      "metadata": {
        "id": "9Vwm8demKLAH"
      }
    }
  ]
}